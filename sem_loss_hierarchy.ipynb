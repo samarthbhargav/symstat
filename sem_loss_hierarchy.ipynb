{
 "cells": [
  {
   "cell_type": "code",
   "execution_count": 1,
   "metadata": {},
   "outputs": [],
   "source": [
    "from fashion_mnsit import FashionMNIST, balanced_batches_heirarchy, Hierarchy\n",
    "from torchvision import datasets, transforms\n"
   ]
  },
  {
   "cell_type": "code",
   "execution_count": 2,
   "metadata": {},
   "outputs": [],
   "source": [
    "fmnist_transforms = transforms.Compose([\n",
    "        transforms.ToTensor()\n",
    "    ])"
   ]
  },
  {
   "cell_type": "code",
   "execution_count": 3,
   "metadata": {},
   "outputs": [],
   "source": [
    "fmnist = FashionMNIST(\"./fashion-mnist\", 0.5, train=True,\n",
    "                      transform=fmnist_transforms, download=True)"
   ]
  },
  {
   "cell_type": "code",
   "execution_count": 4,
   "metadata": {},
   "outputs": [],
   "source": [
    "hierarchy = Hierarchy(fmnist)"
   ]
  },
  {
   "cell_type": "code",
   "execution_count": 51,
   "metadata": {},
   "outputs": [
    {
     "name": "stdout",
     "output_type": "stream",
     "text": [
      "Top\n",
      "Top\n",
      "T-shirt/top\n",
      "[ 0 10]\n",
      "[10  0]\n",
      "True\n",
      "[False False]\n"
     ]
    }
   ],
   "source": [
    "# hierarchy.find_classes(\"Pullover\")\n",
    "\n",
    "print(hierarchy.idx_to_class[10])\n",
    "\n",
    "a = hierarchy.assoc_idx[0]\n",
    "\n",
    "for i in a:\n",
    "    print(hierarchy.idx_to_class[i])\n",
    "\n",
    "import torch\n",
    "import numpy as np\n",
    "\n",
    "x = torch.zeros(11)\n",
    "x[0] = 1.\n",
    "x[10] = 1.\n",
    "\n",
    "# x = x.type(torch.LongTensor)\n",
    "\n",
    "# x = x.numpy()\n",
    "\n",
    "ids_pred = np.where(x == 1.)[0]\n",
    "\n",
    "# print(x)\n",
    "ids = hierarchy.assoc_idx[0]\n",
    "print(ids_pred)\n",
    "print(np.array(ids))\n",
    "\n",
    "\n",
    "print(np.array_equal(sorted(ids_pred), sorted(ids)))\n",
    "\n",
    "print(ids==ids_pred)"
   ]
  },
  {
   "cell_type": "code",
   "execution_count": 50,
   "metadata": {},
   "outputs": [
    {
     "name": "stdout",
     "output_type": "stream",
     "text": [
      "[10, 0]\n",
      "[1]\n",
      "[2, 10]\n",
      "[3]\n",
      "[4, 10]\n",
      "[5, 11]\n",
      "[10, 6]\n",
      "[7, 11]\n",
      "[8]\n",
      "[11, 9]\n",
      "[10]\n",
      "[11]\n"
     ]
    }
   ],
   "source": [
    "# typhierarchy.assoc_idx\n",
    "\n",
    "\n",
    "for k, v in hierarchy.assoc_idx.items():\n",
    "    print(v)"
   ]
  },
  {
   "cell_type": "code",
   "execution_count": null,
   "metadata": {},
   "outputs": [],
   "source": []
  },
  {
   "cell_type": "code",
   "execution_count": 6,
   "metadata": {},
   "outputs": [],
   "source": [
    "x, y = next(balanced_batches_heirarchy(fmnist, hierarchy, 16))"
   ]
  },
  {
   "cell_type": "code",
   "execution_count": 7,
   "metadata": {},
   "outputs": [],
   "source": [
    "x, y, x_unlab, y_unlab = FashionMNIST.separate_unlabeled(x, y)"
   ]
  },
  {
   "cell_type": "code",
   "execution_count": 19,
   "metadata": {},
   "outputs": [],
   "source": [
    "a= torch.sigmoid(torch.rand((12, )))"
   ]
  },
  {
   "cell_type": "code",
   "execution_count": 17,
   "metadata": {},
   "outputs": [],
   "source": [
    "import torch\n",
    "from models import SemanticLossModule\n"
   ]
  },
  {
   "cell_type": "code",
   "execution_count": 14,
   "metadata": {},
   "outputs": [
    {
     "data": {
      "text/plain": [
       "tensor(0.0184)"
      ]
     },
     "execution_count": 14,
     "metadata": {},
     "output_type": "execute_result"
    }
   ],
   "source": [
    "a = torch.sigmoid(torch.rand(12, ))\n",
    "\n",
    "a[hierarchy.neg_assoc_idx[0]].prod()"
   ]
  },
  {
   "cell_type": "code",
   "execution_count": 28,
   "metadata": {},
   "outputs": [],
   "source": [
    "def sem_loss(probs, hierarchy):\n",
    "    s = torch.zeros(1)\n",
    "    \n",
    "    for i, p_i in enumerate(probs):\n",
    "        # get 'positive' locs - we want to maximize these probs\n",
    "        assoc = hierarchy.assoc_idx[i]\n",
    "        # get 'negative' locs - we want to minimuize these probs\n",
    "        neg_assoc = hierarchy.neg_assoc_idx[i]\n",
    "        \n",
    "        s_1 = probs[assoc].prod()\n",
    "        s_2 = (1 - probs[neg_assoc]).prod()\n",
    "        s = s + s_1 + s_2\n",
    "    \n",
    "    return -1 * torch.log(s)"
   ]
  },
  {
   "cell_type": "code",
   "execution_count": 20,
   "metadata": {},
   "outputs": [],
   "source": [
    "from argparse import Namespace\n",
    "\n",
    "args = Namespace(w_s=1.0)"
   ]
  },
  {
   "cell_type": "code",
   "execution_count": 22,
   "metadata": {},
   "outputs": [],
   "source": [
    "slm = SemanticLossModule(torch.device(\"cpu\"), hierarchy.n_classes, args)"
   ]
  },
  {
   "cell_type": "code",
   "execution_count": 24,
   "metadata": {},
   "outputs": [],
   "source": [
    "probs = torch.sigmoid(slm.forward(x))"
   ]
  },
  {
   "cell_type": "code",
   "execution_count": 29,
   "metadata": {},
   "outputs": [
    {
     "data": {
      "text/plain": [
       "tensor([-1.4360], grad_fn=<MulBackward0>)"
      ]
     },
     "execution_count": 29,
     "metadata": {},
     "output_type": "execute_result"
    }
   ],
   "source": [
    "sem_loss(probs[0], hierarchy)"
   ]
  }
 ],
 "metadata": {
  "kernelspec": {
   "display_name": "Python 3",
   "language": "python",
   "name": "python3"
  },
  "language_info": {
   "codemirror_mode": {
    "name": "ipython",
    "version": 3
   },
   "file_extension": ".py",
   "mimetype": "text/x-python",
   "name": "python",
   "nbconvert_exporter": "python",
   "pygments_lexer": "ipython3",
   "version": "3.6.8"
  }
 },
 "nbformat": 4,
 "nbformat_minor": 2
}
